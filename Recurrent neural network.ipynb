{
 "cells": [
  {
   "cell_type": "markdown",
   "metadata": {},
   "source": [
    "# RNNs: How To Implement A Basic RNN"
   ]
  },
  {
   "cell_type": "markdown",
   "metadata": {},
   "source": [
    "### Read In, Clean, And Split The Data"
   ]
  },
  {
   "cell_type": "code",
   "execution_count": 12,
   "metadata": {},
   "outputs": [],
   "source": [
    "#RNN: Neural network where each element that came before an entry is used in the modelling."
   ]
  },
  {
   "cell_type": "code",
   "execution_count": 13,
   "metadata": {},
   "outputs": [],
   "source": [
    "# Read in data and split into training and test set\n",
    "# NOTE: we are NOT cleaning the data (we will be using a special function in keras)\n",
    "import numpy as np\n",
    "import pandas as pd\n",
    "from sklearn.model_selection import train_test_split\n",
    "pd.set_option('display.max_colwidth', 1000)\n",
    "\n",
    "messages = pd.read_csv('/Users/JacobRaymond 1/Desktop/spam.csv', encoding='latin-1')\n",
    "messages = messages.drop(labels = [\"Unnamed: 2\", \"Unnamed: 3\", \"Unnamed: 4\"], axis = 1)\n",
    "messages.columns = [\"label\", \"text\"]\n",
    "\n",
    "#Labelling\n",
    "labels = np.where(messages['label']=='spam', 1, 0)\n",
    "\n",
    "X_train, X_test, y_train, y_test = train_test_split(messages['text'],\n",
    "                                                    labels, test_size=0.2)"
   ]
  },
  {
   "cell_type": "markdown",
   "metadata": {},
   "source": [
    "### Prep Data For Modeling"
   ]
  },
  {
   "cell_type": "code",
   "execution_count": 14,
   "metadata": {},
   "outputs": [
    {
     "name": "stdout",
     "output_type": "stream",
     "text": [
      "Requirement already up-to-date: keras in /opt/anaconda3/lib/python3.8/site-packages (2.4.3)\n",
      "Requirement already satisfied, skipping upgrade: h5py in /opt/anaconda3/lib/python3.8/site-packages (from keras) (2.10.0)\n",
      "Requirement already satisfied, skipping upgrade: numpy>=1.9.1 in /opt/anaconda3/lib/python3.8/site-packages (from keras) (1.18.5)\n",
      "Requirement already satisfied, skipping upgrade: scipy>=0.14 in /opt/anaconda3/lib/python3.8/site-packages (from keras) (1.4.1)\n",
      "Requirement already satisfied, skipping upgrade: pyyaml in /opt/anaconda3/lib/python3.8/site-packages (from keras) (5.3.1)\n",
      "Requirement already satisfied, skipping upgrade: six in /opt/anaconda3/lib/python3.8/site-packages (from h5py->keras) (1.15.0)\n"
     ]
    }
   ],
   "source": [
    "# Install keras\n",
    "!pip install -U keras"
   ]
  },
  {
   "cell_type": "code",
   "execution_count": 15,
   "metadata": {},
   "outputs": [],
   "source": [
    "# Import the tools we will need from keras\n",
    "from keras.preprocessing.text import Tokenizer\n",
    "from keras.preprocessing.sequence import pad_sequences"
   ]
  },
  {
   "cell_type": "code",
   "execution_count": 16,
   "metadata": {},
   "outputs": [],
   "source": [
    "# Initialize and fit the tokenizer\n",
    "tokenizer=Tokenizer()\n",
    "tokenizer.fit_on_texts(X_train)"
   ]
  },
  {
   "cell_type": "code",
   "execution_count": 17,
   "metadata": {},
   "outputs": [],
   "source": [
    "# Use that tokenizer to transform the text messages in the training and test sets\n",
    "#Automatically cleans the data, transforms it to integers, and puts into an array of arrays\n",
    "X_train_seq = tokenizer.texts_to_sequences(X_train)\n",
    "X_test_seq = tokenizer.texts_to_sequences(X_test)"
   ]
  },
  {
   "cell_type": "code",
   "execution_count": 18,
   "metadata": {},
   "outputs": [
    {
     "data": {
      "text/plain": [
       "[130,\n",
       " 1,\n",
       " 32,\n",
       " 31,\n",
       " 1252,\n",
       " 5,\n",
       " 416,\n",
       " 2009,\n",
       " 76,\n",
       " 9,\n",
       " 12,\n",
       " 4,\n",
       " 3776,\n",
       " 1,\n",
       " 124,\n",
       " 12,\n",
       " 3777,\n",
       " 8,\n",
       " 2010,\n",
       " 97,\n",
       " 431,\n",
       " 178,\n",
       " 3778,\n",
       " 1016,\n",
       " 23,\n",
       " 228,\n",
       " 3779,\n",
       " 2,\n",
       " 31,\n",
       " 1252,\n",
       " 83,\n",
       " 26]"
      ]
     },
     "execution_count": 18,
     "metadata": {},
     "output_type": "execute_result"
    }
   ],
   "source": [
    "# What do these sequences look like?\n",
    "#This is the integer representation of the first message\n",
    "X_train_seq[0]"
   ]
  },
  {
   "cell_type": "code",
   "execution_count": 19,
   "metadata": {},
   "outputs": [],
   "source": [
    "# Pad the sequences so each sequence is the same length\n",
    "#Each sequence will be of length 50 (either truncated or padded)\n",
    "X_train_seq_padded=pad_sequences(X_train_seq, 50)\n",
    "X_test_seq_padded=pad_sequences(X_test_seq, 50)"
   ]
  },
  {
   "cell_type": "code",
   "execution_count": 20,
   "metadata": {},
   "outputs": [
    {
     "data": {
      "text/plain": [
       "array([   0,    0,    0,    0,    0,    0,    0,    0,    0,    0,    0,\n",
       "          0,    0,    0,    0,    0,    0,    0,  130,    1,   32,   31,\n",
       "       1252,    5,  416, 2009,   76,    9,   12,    4, 3776,    1,  124,\n",
       "         12, 3777,    8, 2010,   97,  431,  178, 3778, 1016,   23,  228,\n",
       "       3779,    2,   31, 1252,   83,   26], dtype=int32)"
      ]
     },
     "execution_count": 20,
     "metadata": {},
     "output_type": "execute_result"
    }
   ],
   "source": [
    "# What do these padded sequences look like?\n",
    "X_train_seq_padded[0]"
   ]
  },
  {
   "cell_type": "markdown",
   "metadata": {},
   "source": [
    "### Build Model"
   ]
  },
  {
   "cell_type": "code",
   "execution_count": 21,
   "metadata": {},
   "outputs": [],
   "source": [
    "# Import the tools needed from keras and define functions to calculate recall and precision\n",
    "import keras.backend as K\n",
    "from keras.layers import Dense, Embedding, LSTM\n",
    "from keras.models import Sequential\n",
    "\n",
    "def recall_m(y_true, y_pred):\n",
    "        true_positives = K.sum(K.round(K.clip(y_true * y_pred, 0, 1)))\n",
    "        possible_positives = K.sum(K.round(K.clip(y_true, 0, 1)))\n",
    "        recall = true_positives / (possible_positives + K.epsilon())\n",
    "        return recall\n",
    "\n",
    "def precision_m(y_true, y_pred):\n",
    "        true_positives = K.sum(K.round(K.clip(y_true * y_pred, 0, 1)))\n",
    "        predicted_positives = K.sum(K.round(K.clip(y_pred, 0, 1)))\n",
    "        precision = true_positives / (predicted_positives + K.epsilon())\n",
    "        return precision"
   ]
  },
  {
   "cell_type": "code",
   "execution_count": 26,
   "metadata": {},
   "outputs": [
    {
     "name": "stdout",
     "output_type": "stream",
     "text": [
      "Model: \"sequential_3\"\n",
      "_________________________________________________________________\n",
      "Layer (type)                 Output Shape              Param #   \n",
      "=================================================================\n",
      "embedding_1 (Embedding)      (None, None, 32)          252960    \n",
      "_________________________________________________________________\n",
      "lstm (LSTM)                  (None, 32)                8320      \n",
      "_________________________________________________________________\n",
      "dense (Dense)                (None, 32)                1056      \n",
      "_________________________________________________________________\n",
      "dense_1 (Dense)              (None, 1)                 33        \n",
      "=================================================================\n",
      "Total params: 262,369\n",
      "Trainable params: 262,369\n",
      "Non-trainable params: 0\n",
      "_________________________________________________________________\n"
     ]
    }
   ],
   "source": [
    "# Construct a simple RNN model\n",
    "model = Sequential()\n",
    "\n",
    "#Layers are somewhat arbitrary\n",
    "# First layer: Creates a vector representation and apply rf (like w2v or d2v)\n",
    "#First element: number of words; Second: vector of length 32\n",
    "model.add(Embedding(len(tokenizer.index_word)+1, 32))\n",
    "#Second layer: LSTM model\n",
    "#First element: output size; Second and third: regularization to avoid overfitting. We drop nodes. No regularization at this point.\n",
    "model.add(LSTM(32, dropout=0, recurrent_dropout=0))\n",
    "#Third layer: Dense layer\n",
    "#First element: output size; Second: activation function\n",
    "model.add(Dense(32, activation='relu'))\n",
    "#Last layer: sigmoid function (for prediction)\n",
    "model.add(Dense(1, activation='sigmoid'))\n",
    "model.summary()"
   ]
  },
  {
   "cell_type": "code",
   "execution_count": 27,
   "metadata": {},
   "outputs": [],
   "source": [
    "# Compile the model\n",
    "model.compile(optimizer='adam',\n",
    "              loss='binary_crossentropy',\n",
    "              metrics=['accuracy', precision_m, recall_m])"
   ]
  },
  {
   "cell_type": "code",
   "execution_count": 28,
   "metadata": {},
   "outputs": [
    {
     "name": "stdout",
     "output_type": "stream",
     "text": [
      "Epoch 1/10\n",
      "140/140 [==============================] - 6s 41ms/step - loss: 0.3104 - accuracy: 0.9049 - precision_m: 0.4294 - recall_m: 0.3755 - val_loss: 0.0739 - val_accuracy: 0.9812 - val_precision_m: 0.9771 - val_recall_m: 0.8845\n",
      "Epoch 2/10\n",
      "140/140 [==============================] - 5s 38ms/step - loss: 0.0427 - accuracy: 0.9892 - precision_m: 0.9675 - recall_m: 0.9413 - val_loss: 0.0595 - val_accuracy: 0.9830 - val_precision_m: 1.0000 - val_recall_m: 0.8945\n",
      "Epoch 3/10\n",
      "140/140 [==============================] - 5s 35ms/step - loss: 0.0148 - accuracy: 0.9969 - precision_m: 0.9830 - recall_m: 0.9698 - val_loss: 0.0627 - val_accuracy: 0.9839 - val_precision_m: 0.9905 - val_recall_m: 0.9123\n",
      "Epoch 4/10\n",
      "140/140 [==============================] - 5s 37ms/step - loss: 0.0058 - accuracy: 0.9982 - precision_m: 0.9879 - recall_m: 0.9831 - val_loss: 0.0689 - val_accuracy: 0.9839 - val_precision_m: 1.0000 - val_recall_m: 0.9088\n",
      "Epoch 5/10\n",
      "140/140 [==============================] - 5s 35ms/step - loss: 0.0028 - accuracy: 0.9996 - precision_m: 0.9786 - recall_m: 0.9755 - val_loss: 0.0727 - val_accuracy: 0.9848 - val_precision_m: 1.0000 - val_recall_m: 0.9123\n",
      "Epoch 6/10\n",
      "140/140 [==============================] - 5s 35ms/step - loss: 0.0013 - accuracy: 0.9996 - precision_m: 0.9857 - recall_m: 0.9819 - val_loss: 0.0981 - val_accuracy: 0.9830 - val_precision_m: 1.0000 - val_recall_m: 0.8991\n",
      "Epoch 7/10\n",
      "140/140 [==============================] - 5s 35ms/step - loss: 9.2507e-04 - accuracy: 0.9998 - precision_m: 0.9857 - recall_m: 0.9839 - val_loss: 0.0852 - val_accuracy: 0.9830 - val_precision_m: 1.0000 - val_recall_m: 0.8991\n",
      "Epoch 8/10\n",
      "140/140 [==============================] - 4s 28ms/step - loss: 2.5249e-04 - accuracy: 1.0000 - precision_m: 0.9786 - recall_m: 0.9786 - val_loss: 0.0941 - val_accuracy: 0.9830 - val_precision_m: 1.0000 - val_recall_m: 0.8991\n",
      "Epoch 9/10\n",
      "140/140 [==============================] - 4s 28ms/step - loss: 1.4768e-04 - accuracy: 1.0000 - precision_m: 1.0000 - recall_m: 1.0000 - val_loss: 0.0969 - val_accuracy: 0.9830 - val_precision_m: 1.0000 - val_recall_m: 0.8991\n",
      "Epoch 10/10\n",
      "140/140 [==============================] - 4s 28ms/step - loss: 1.0576e-04 - accuracy: 1.0000 - precision_m: 0.9857 - recall_m: 0.9857 - val_loss: 0.1037 - val_accuracy: 0.9830 - val_precision_m: 1.0000 - val_recall_m: 0.8991\n"
     ]
    }
   ],
   "source": [
    "# Fit the RNN model\n",
    "#10 epoch: runs the model 10 times.\n",
    "history = model.fit(X_train_seq_padded, y_train, \n",
    "                    batch_size=32, epochs=10,\n",
    "                    validation_data=(X_test_seq_padded, y_test))"
   ]
  },
  {
   "cell_type": "code",
   "execution_count": 29,
   "metadata": {},
   "outputs": [
    {
     "data": {
      "image/png": "[encoded data removed]",
      "text/plain": [
       "<Figure size 432x288 with 1 Axes>"
      ]
     },
     "metadata": {
      "needs_background": "light"
     },
     "output_type": "display_data"
    },
    {
     "data": {
      "image/png": "[encoded data removed]",
      "text/plain": [
       "<Figure size 432x288 with 1 Axes>"
      ]
     },
     "metadata": {
      "needs_background": "light"
     },
     "output_type": "display_data"
    },
    {
     "data": {
      "image/png": "[encoded data removed]",
      "text/plain": [
       "<Figure size 432x288 with 1 Axes>"
      ]
     },
     "metadata": {
      "needs_background": "light"
     },
     "output_type": "display_data"
    }
   ],
   "source": [
    "# Plot the evaluation metrics by each epoch for the model to see if we are over or underfitting\n",
    "import matplotlib.pyplot as plt\n",
    "\n",
    "for i in ['accuracy', 'precision_m', 'recall_m']:\n",
    "    acc = history.history[i]\n",
    "    val_acc = history.history['val_{}'.format(i)]\n",
    "    epochs = range(1, len(acc) + 1)\n",
    "\n",
    "    plt.figure()\n",
    "    plt.plot(epochs, acc, label='Training Accuracy')\n",
    "    plt.plot(epochs, val_acc, label='Validation Accuracy')\n",
    "    plt.title('Results for {}'.format(i))\n",
    "    plt.legend()\n",
    "    plt.show()\n",
    "    \n",
    "#10 epochs is not necessary\n",
    "#No overfitting."
   ]
  },
  {
   "cell_type": "code",
   "execution_count": null,
   "metadata": {},
   "outputs": [],
   "source": []
  }
 ],
 "metadata": {
  "kernelspec": {
   "display_name": "Python 3",
   "language": "python",
   "name": "python3"
  },
  "language_info": {
   "codemirror_mode": {
    "name": "ipython",
    "version": 3
   },
   "file_extension": ".py",
   "mimetype": "text/x-python",
   "name": "python",
   "nbconvert_exporter": "python",
   "pygments_lexer": "ipython3",
   "version": "3.8.3"
  }
 },
 "nbformat": 4,
 "nbformat_minor": 2
}
