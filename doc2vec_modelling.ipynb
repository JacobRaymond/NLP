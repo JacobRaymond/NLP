{
 "cells": [
  {
   "cell_type": "markdown",
   "metadata": {},
   "source": [
    "# doc2vec: How To Prep Document Vectors For Modeling"
   ]
  },
  {
   "cell_type": "markdown",
   "metadata": {},
   "source": [
    "### Train Our Own Model"
   ]
  },
  {
   "cell_type": "code",
   "execution_count": 1,
   "metadata": {},
   "outputs": [],
   "source": [
    "# Read in data, clean it, split it into train/test, and then train a doc2vec model\n",
    "import gensim\n",
    "import pandas as pd\n",
    "from sklearn.model_selection import train_test_split\n",
    "pd.set_option('display.max_colwidth', 100)\n",
    "\n",
    "messages = pd.read_csv('/Users/JacobRaymond 1/Desktop/spam.csv', encoding='latin-1')\n",
    "messages = messages.drop(labels = [\"Unnamed: 2\", \"Unnamed: 3\", \"Unnamed: 4\"], axis = 1)\n",
    "messages.columns = [\"label\", \"text\"]\n",
    "messages['text_clean'] = messages['text'].apply(lambda x: gensim.utils.simple_preprocess(x))\n",
    "\n",
    "X_train, X_test, y_train, y_test = train_test_split(messages['text_clean'],\n",
    "                                                    messages['label'], test_size=0.2)\n",
    "\n",
    "tagged_docs_tr = [gensim.models.doc2vec.TaggedDocument(v, [i]) for i, v in enumerate(X_train)]\n",
    "\n",
    "d2v_model = gensim.models.Doc2Vec(tagged_docs_tr,\n",
    "                                  vector_size=50,\n",
    "                                  window=2,\n",
    "                                  min_count=2)"
   ]
  },
  {
   "cell_type": "code",
   "execution_count": 2,
   "metadata": {},
   "outputs": [
    {
     "data": {
      "text/plain": [
       "array([ 0.00549775, -0.00479138, -0.00453697,  0.00310753,  0.00496718,\n",
       "       -0.0141829 , -0.00978521,  0.00475991, -0.00920011, -0.0198237 ,\n",
       "        0.01978293, -0.02314577, -0.0131962 , -0.01974957, -0.01941078,\n",
       "        0.02106815,  0.00937061, -0.00900033, -0.01053536, -0.0093924 ,\n",
       "       -0.01030937,  0.00231917,  0.00744366,  0.00988739,  0.01410409,\n",
       "        0.00065239, -0.0096357 , -0.00270245,  0.01245961, -0.01107858,\n",
       "        0.02550416,  0.00590822, -0.00408787, -0.00393258,  0.0154953 ,\n",
       "        0.00664163,  0.0090831 ,  0.01284913, -0.00244675, -0.0101524 ,\n",
       "       -0.01219207,  0.00228777,  0.00476197,  0.00904806,  0.00158163,\n",
       "        0.0142659 , -0.03730001, -0.00859052,  0.00307706, -0.01216811],\n",
       "      dtype=float32)"
      ]
     },
     "execution_count": 2,
     "metadata": {},
     "output_type": "execute_result"
    }
   ],
   "source": [
    "# What does a document vector look like again?\n",
    "d2v_model.infer_vector(['convert', 'words', 'to', 'vectors'])"
   ]
  },
  {
   "cell_type": "code",
   "execution_count": 3,
   "metadata": {},
   "outputs": [],
   "source": [
    "# How do we prepare these vectors to be used in a machine learning model?\n",
    "vectors=[[d2v_model.infer_vector(words)] for words in X_test]"
   ]
  },
  {
   "cell_type": "code",
   "execution_count": 4,
   "metadata": {},
   "outputs": [
    {
     "data": {
      "text/plain": [
       "[array([ 0.0166454 , -0.024421  ,  0.0145875 ,  0.01300649, -0.01341675,\n",
       "        -0.05900685, -0.00967271,  0.02800223, -0.00236587, -0.04638653,\n",
       "         0.04136406, -0.05129437, -0.01588824, -0.04722268, -0.05877544,\n",
       "         0.04227637,  0.03215004, -0.04348295, -0.03935796, -0.0240198 ,\n",
       "        -0.01556802,  0.03021969,  0.03468537,  0.02838834,  0.02227793,\n",
       "        -0.01700861, -0.03907032, -0.04402911,  0.06017286, -0.00885053,\n",
       "         0.0482679 , -0.00273001, -0.02167987, -0.00608855,  0.02277244,\n",
       "         0.03922192,  0.00222365,  0.0026599 , -0.0153467 , -0.03201162,\n",
       "        -0.02324964, -0.00532325,  0.0221997 , -0.00034635, -0.01663011,\n",
       "         0.04976422, -0.10098164, -0.00433089, -0.01163869, -0.04852285],\n",
       "       dtype=float32)]"
      ]
     },
     "execution_count": 4,
     "metadata": {},
     "output_type": "execute_result"
    }
   ],
   "source": [
    "vectors[0]"
   ]
  },
  {
   "cell_type": "code",
   "execution_count": null,
   "metadata": {},
   "outputs": [],
   "source": []
  }
 ],
 "metadata": {
  "kernelspec": {
   "display_name": "Python 3",
   "language": "python",
   "name": "python3"
  },
  "language_info": {
   "codemirror_mode": {
    "name": "ipython",
    "version": 3
   },
   "file_extension": ".py",
   "mimetype": "text/x-python",
   "name": "python",
   "nbconvert_exporter": "python",
   "pygments_lexer": "ipython3",
   "version": "3.8.3"
  }
 },
 "nbformat": 4,
 "nbformat_minor": 1
}
